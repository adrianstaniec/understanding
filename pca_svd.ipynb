{
 "cells": [
  {
   "cell_type": "code",
   "execution_count": 20,
   "id": "da6f7d74",
   "metadata": {},
   "outputs": [],
   "source": [
    "import numpy as np\n",
    "from sklearn.datasets import load_digits\n",
    "import matplotlib.pyplot as plt\n",
    "from ipywidgets import interact, interactive, fixed, interact_manual\n",
    "import ipywidgets as widgets\n",
    "\n",
    "%matplotlib inline"
   ]
  },
  {
   "cell_type": "code",
   "execution_count": 245,
   "id": "46e32ea4",
   "metadata": {},
   "outputs": [],
   "source": [
    "digits = load_digits(n_class=2)"
   ]
  },
  {
   "cell_type": "code",
   "execution_count": 246,
   "id": "741a3c68",
   "metadata": {},
   "outputs": [
    {
     "data": {
      "text/plain": [
       "(360, 64)"
      ]
     },
     "execution_count": 246,
     "metadata": {},
     "output_type": "execute_result"
    }
   ],
   "source": [
    "digits.data.shape"
   ]
  },
  {
   "cell_type": "code",
   "execution_count": 247,
   "id": "8db1d005",
   "metadata": {},
   "outputs": [
    {
     "data": {
      "text/plain": [
       "(360, 8, 8)"
      ]
     },
     "execution_count": 247,
     "metadata": {},
     "output_type": "execute_result"
    }
   ],
   "source": [
    "digits.images.shape"
   ]
  },
  {
   "cell_type": "code",
   "execution_count": 248,
   "id": "08fe3ba6",
   "metadata": {},
   "outputs": [
    {
     "data": {
      "text/plain": [
       "array([[ 0.,  0.,  5., 13.,  9.,  1.,  0.,  0.],\n",
       "       [ 0.,  0., 13., 15., 10., 15.,  5.,  0.],\n",
       "       [ 0.,  3., 15.,  2.,  0., 11.,  8.,  0.],\n",
       "       [ 0.,  4., 12.,  0.,  0.,  8.,  8.,  0.],\n",
       "       [ 0.,  5.,  8.,  0.,  0.,  9.,  8.,  0.],\n",
       "       [ 0.,  4., 11.,  0.,  1., 12.,  7.,  0.],\n",
       "       [ 0.,  2., 14.,  5., 10., 12.,  0.,  0.],\n",
       "       [ 0.,  0.,  6., 13., 10.,  0.,  0.,  0.]])"
      ]
     },
     "execution_count": 248,
     "metadata": {},
     "output_type": "execute_result"
    }
   ],
   "source": [
    "X = digits.images[0]\n",
    "X"
   ]
  },
  {
   "cell_type": "code",
   "execution_count": 249,
   "id": "dcd196bd",
   "metadata": {},
   "outputs": [
    {
     "data": {
      "image/png": "[encoded data removed]",
      "text/plain": [
       "<Figure size 144x144 with 1 Axes>"
      ]
     },
     "metadata": {
      "needs_background": "light"
     },
     "output_type": "display_data"
    }
   ],
   "source": [
    "plt.figure(figsize=(2,2))\n",
    "plt.imshow(X, cmap='bone');"
   ]
  },
  {
   "cell_type": "markdown",
   "id": "321e27a8",
   "metadata": {},
   "source": [
    "# Train  SVD on single image"
   ]
  },
  {
   "cell_type": "code",
   "execution_count": 250,
   "id": "d12398ad",
   "metadata": {},
   "outputs": [],
   "source": [
    "u, s, vh = np.linalg.svd(X)\n",
    "u.shape, s.shape, vh.shape"
   ]
  },
  {
   "cell_type": "code",
   "execution_count": 251,
   "id": "5607f0b5",
   "metadata": {},
   "outputs": [
    {
     "data": {
      "image/png": "[encoded data removed]",
      "text/plain": [
       "<Figure size 144x144 with 1 Axes>"
      ]
     },
     "metadata": {
      "needs_background": "light"
     },
     "output_type": "display_data"
    }
   ],
   "source": [
    "plt.figure(figsize=(2,2))\n",
    "plt.imshow(u, cmap='bone');"
   ]
  },
  {
   "cell_type": "code",
   "execution_count": 252,
   "id": "bcf63be9",
   "metadata": {},
   "outputs": [
    {
     "data": {
      "image/png": "[encoded data removed]",
      "text/plain": [
       "<Figure size 144x144 with 1 Axes>"
      ]
     },
     "metadata": {
      "needs_background": "light"
     },
     "output_type": "display_data"
    }
   ],
   "source": [
    "plt.figure(figsize=(2,2))\n",
    "plt.imshow(np.diag(s), cmap='bone');"
   ]
  },
  {
   "cell_type": "code",
   "execution_count": 253,
   "id": "116d3363",
   "metadata": {},
   "outputs": [
    {
     "data": {
      "image/png": "[encoded data removed]",
      "text/plain": [
       "<Figure size 144x144 with 1 Axes>"
      ]
     },
     "metadata": {
      "needs_background": "light"
     },
     "output_type": "display_data"
    }
   ],
   "source": [
    "plt.figure(figsize=(2,2))\n",
    "plt.imshow(vh, cmap='bone');"
   ]
  },
  {
   "cell_type": "code",
   "execution_count": 254,
   "id": "06952240",
   "metadata": {},
   "outputs": [],
   "source": [
    "r = 2\n",
    "X_rec = np.dot(u[:,:r] * s[:r], vh[:r,:])"
   ]
  },
  {
   "cell_type": "code",
   "execution_count": 255,
   "id": "2f3a6e89",
   "metadata": {},
   "outputs": [
    {
     "data": {
      "text/plain": [
       "<Figure size 288x144 with 0 Axes>"
      ]
     },
     "metadata": {},
     "output_type": "display_data"
    },
    {
     "data": {
      "image/png": "[encoded data removed]",
      "text/plain": [
       "<Figure size 432x288 with 2 Axes>"
      ]
     },
     "metadata": {
      "needs_background": "light"
     },
     "output_type": "display_data"
    }
   ],
   "source": [
    "def plot_vs(X, X_rec):\n",
    "    plt.figure(figsize=(4,2))\n",
    "    fig, (ax1, ax2) = plt.subplots(1,2)\n",
    "    ax1.imshow(X, cmap='bone');\n",
    "    ax2.imshow(X_rec, cmap='bone');\n",
    "plot_vs(X, X_rec)"
   ]
  },
  {
   "cell_type": "code",
   "execution_count": 256,
   "id": "2975f968",
   "metadata": {},
   "outputs": [
    {
     "data": {
      "text/plain": [
       "array([[ 0.22714678, -0.48992739],\n",
       "       [ 0.53908005, -0.27328068],\n",
       "       [ 0.38773218,  0.31858921],\n",
       "       [ 0.30217909,  0.32385608],\n",
       "       [ 0.26338915,  0.31429094],\n",
       "       [ 0.33510624,  0.32908792],\n",
       "       [ 0.42331758, -0.08219089],\n",
       "       [ 0.23511864, -0.51485336]])"
      ]
     },
     "execution_count": 256,
     "metadata": {},
     "output_type": "execute_result"
    }
   ],
   "source": [
    "u[:,:r]"
   ]
  },
  {
   "cell_type": "code",
   "execution_count": 264,
   "id": "25d9f99f",
   "metadata": {},
   "outputs": [],
   "source": [
    "class Compressor:\n",
    "    def __init__(self, s, vh, r):\n",
    "        self.s = s\n",
    "        self.vh = vh\n",
    "        self.r = r\n",
    "        \n",
    "    def compress(self, X):\n",
    "        s = self.s\n",
    "        vh = self.vh\n",
    "        r = self.r\n",
    "        return (X @(vh[:r,:X.shape[1]]).T) / s[:r]\n",
    "\n",
    "    def decompress(self, U):\n",
    "        s = self.s\n",
    "        vh = self.vh\n",
    "        r = self.r\n",
    "        return np.dot(u[:,:r] * s[:r], vh[:r,:X.shape[1]])\n",
    "    \n",
    "c = Compressor(s, vh, 2)    "
   ]
  },
  {
   "cell_type": "code",
   "execution_count": 265,
   "id": "da0e4816",
   "metadata": {},
   "outputs": [
    {
     "data": {
      "text/plain": [
       "<Figure size 288x144 with 0 Axes>"
      ]
     },
     "metadata": {},
     "output_type": "display_data"
    },
    {
     "data": {
      "image/png": "[encoded data removed]",
      "text/plain": [
       "<Figure size 432x288 with 2 Axes>"
      ]
     },
     "metadata": {
      "needs_background": "light"
     },
     "output_type": "display_data"
    }
   ],
   "source": [
    "i = 5\n",
    "X1 = digits.images[i]\n",
    "plot_vs(X1,c.decompress(c.compress(X1)))"
   ]
  },
  {
   "cell_type": "markdown",
   "id": "961e16d9",
   "metadata": {},
   "source": [
    "# Train on 1"
   ]
  },
  {
   "cell_type": "code",
   "execution_count": null,
   "id": "a0de317c",
   "metadata": {},
   "outputs": [],
   "source": [
    "u, s, vh = np.linalg.svd(X)\n",
    "u.shape, s.shape, vh.shape"
   ]
  },
  {
   "cell_type": "markdown",
   "id": "9d7c5035",
   "metadata": {},
   "source": [
    "# Try SVD on two images (one 0, one 1)"
   ]
  },
  {
   "cell_type": "code",
   "execution_count": 258,
   "id": "7792b548",
   "metadata": {},
   "outputs": [
    {
     "data": {
      "text/plain": [
       "(8, 16)"
      ]
     },
     "execution_count": 258,
     "metadata": {},
     "output_type": "execute_result"
    }
   ],
   "source": [
    "\n",
    "X.shape"
   ]
  },
  {
   "cell_type": "code",
   "execution_count": null,
   "id": "83c4980a",
   "metadata": {},
   "outputs": [],
   "source": [
    "X = digits.images[0]\n",
    "u, s, vh = np.linalg.svd(X)\n",
    "u.shape, s.shape, vh.shape"
   ]
  },
  {
   "cell_type": "code",
   "execution_count": null,
   "id": "69dcf5ca",
   "metadata": {},
   "outputs": [],
   "source": [
    "X = digits.images[1]\n",
    "u, s, vh = np.linalg.svd(X)\n",
    "u.shape, s.shape, vh.shape"
   ]
  },
  {
   "cell_type": "code",
   "execution_count": 263,
   "id": "16c2f4a0",
   "metadata": {},
   "outputs": [],
   "source": [
    "compressor = Compressor(s, vh, 4)"
   ]
  },
  {
   "cell_type": "code",
   "execution_count": 260,
   "id": "30aeff7e",
   "metadata": {},
   "outputs": [
    {
     "data": {
      "text/plain": [
       "<Figure size 288x144 with 0 Axes>"
      ]
     },
     "metadata": {},
     "output_type": "display_data"
    },
    {
     "data": {
      "image/png": "[encoded data removed]",
      "text/plain": [
       "<Figure size 432x288 with 2 Axes>"
      ]
     },
     "metadata": {
      "needs_background": "light"
     },
     "output_type": "display_data"
    }
   ],
   "source": [
    "plot_vs(X,compressor.decompress(compressor.compress(X)))"
   ]
  },
  {
   "cell_type": "code",
   "execution_count": 261,
   "id": "80079e12",
   "metadata": {},
   "outputs": [
    {
     "data": {
      "text/plain": [
       "<Figure size 288x144 with 0 Axes>"
      ]
     },
     "metadata": {},
     "output_type": "display_data"
    },
    {
     "data": {
      "image/png": "[encoded data removed]",
      "text/plain": [
       "<Figure size 432x288 with 2 Axes>"
      ]
     },
     "metadata": {
      "needs_background": "light"
     },
     "output_type": "display_data"
    }
   ],
   "source": [
    "X = digits.images[2]\n",
    "plot_vs(X,compressor.decompress(compressor.compress(X)))"
   ]
  },
  {
   "cell_type": "code",
   "execution_count": 262,
   "id": "b1eb8bde",
   "metadata": {},
   "outputs": [
    {
     "data": {
      "text/plain": [
       "<Figure size 288x144 with 0 Axes>"
      ]
     },
     "metadata": {},
     "output_type": "display_data"
    },
    {
     "data": {
      "image/png": "[encoded data removed]",
      "text/plain": [
       "<Figure size 432x288 with 2 Axes>"
      ]
     },
     "metadata": {
      "needs_background": "light"
     },
     "output_type": "display_data"
    }
   ],
   "source": [
    "X = digits.images[3]\n",
    "plot_vs(X,compressor.decompress(compressor.compress(X)))"
   ]
  },
  {
   "cell_type": "code",
   "execution_count": null,
   "id": "9bfdc162",
   "metadata": {},
   "outputs": [],
   "source": []
  },
  {
   "cell_type": "code",
   "execution_count": null,
   "id": "a76a1e32",
   "metadata": {},
   "outputs": [],
   "source": []
  },
  {
   "cell_type": "code",
   "execution_count": null,
   "id": "37d52240",
   "metadata": {},
   "outputs": [],
   "source": []
  },
  {
   "cell_type": "code",
   "execution_count": null,
   "id": "c9cb5c65",
   "metadata": {},
   "outputs": [],
   "source": []
  },
  {
   "cell_type": "code",
   "execution_count": null,
   "id": "66745b22",
   "metadata": {},
   "outputs": [],
   "source": []
  },
  {
   "cell_type": "code",
   "execution_count": null,
   "id": "98585e12",
   "metadata": {},
   "outputs": [],
   "source": []
  },
  {
   "cell_type": "code",
   "execution_count": null,
   "id": "cc041b24",
   "metadata": {},
   "outputs": [],
   "source": []
  },
  {
   "cell_type": "code",
   "execution_count": null,
   "id": "896e5d3a",
   "metadata": {},
   "outputs": [],
   "source": []
  },
  {
   "cell_type": "code",
   "execution_count": null,
   "id": "90b5db1f",
   "metadata": {},
   "outputs": [],
   "source": []
  },
  {
   "cell_type": "code",
   "execution_count": null,
   "id": "2cc25c9b",
   "metadata": {},
   "outputs": [],
   "source": []
  },
  {
   "cell_type": "code",
   "execution_count": null,
   "id": "8e7bda5d",
   "metadata": {},
   "outputs": [],
   "source": []
  }
 ],
 "metadata": {
  "kernelspec": {
   "display_name": "cv",
   "language": "python",
   "name": "cv"
  },
  "language_info": {
   "codemirror_mode": {
    "name": "ipython",
    "version": 3
   },
   "file_extension": ".py",
   "mimetype": "text/x-python",
   "name": "python",
   "nbconvert_exporter": "python",
   "pygments_lexer": "ipython3",
   "version": "3.8.10"
  }
 },
 "nbformat": 4,
 "nbformat_minor": 5
}
